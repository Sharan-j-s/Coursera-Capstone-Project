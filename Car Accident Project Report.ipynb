{
 "cells": [
  {
   "cell_type": "markdown",
   "metadata": {},
   "source": [
    "# Car Accident Project Report"
   ]
  },
  {
   "cell_type": "markdown",
   "metadata": {},
   "source": [
    "### INTRODUCTION\n",
    "\n",
    "Car crashes and road accidents could be considered an old topic. Yet, with the progress of the technology involved and the capabilities of these sophisticated machines, it is ever more important to have tools and means available to mitigate their occurrences, as well as the implications and consequences for the people involved. Thanks to the advancement of technological and analytical tools in the last two decades we are now able to better understand how crashes happen. This enables the transport, security and emergency agencies all around the world to have different (predictive) models for quickly analyzing crashes when they happen and dispatch an appropriate response swiftly.\n"
   ]
  },
  {
   "cell_type": "markdown",
   "metadata": {},
   "source": [
    "### Business Problem\n",
    "To reduce the frequency of car collisions in a community, an algorithm must be developed to predict the severity of an accident. When conditions are unfavorable, this model will alert drivers to remind them to be more careful. Our goal is to predict the severity of a crash.\n",
    "\n",
    "To achieve our goal, we will go through the following steps:\n",
    "*Feature Exploration (with data cleaning)\n",
    "*Dimensionality reduction\n",
    "*Model building (including benchmark and baselines models)\n",
    "*Optimization and final model selection.\n",
    "\n",
    "Considering that our problem is a multiclass classification that have imbalanced classes, we will use an F1 score to evaluate the performance of the different models that we will train. For each model, the value for the global score will, in turn, be the average of the Fl scores for each class. So, we will be using a one vs all approach. However, we will also take a close look at accuracy, precision and recall; since they all provide valuable insights into understanding how the model is performing.\n",
    "\n",
    "Finally, we will explain and give details on what are some possible next steps to further improve the overall performance and interpretability of the chosen model."
   ]
  },
  {
   "cell_type": "markdown",
   "metadata": {},
   "source": [
    "### Data Understanding\n",
    "\n",
    "Our predictor or target variable will be 'SEVERITYCODE' because it is used measure the severity of an accident from 0 to 5 within the dataset. Attributes used to weigh the severity of an accident are 'WEATHER', 'ROADCOND' and 'LIGHTCOND'.\n",
    "\n",
    "Severity codes are as follows:\n",
    "\n",
    "0 : Little to no Probability (Clear Conditions)\n",
    "1 : Very Low Probablility - Chance or Property Damage\n",
    "2 : Low Probability - Chance of Injury\n",
    "3 : Mild Probability - Chance of Serious Injury\n",
    "4 : High Probability - Chance of Fatality\n",
    "\n",
    "#### Extract Dataset & Convert\n",
    "\n",
    "In it's original form, this data is not fit for analysis. For one, there are many columns that we will not use for this model. Also, most of the features are of type object, when they should be numerical type.\n",
    "We must use label encoding to covert the features to our desired data type.\n",
    "With the new columns, we can now use this data in our analysis and ML models!\n",
    "\n",
    "Now let's check the data types of the new columns in our dataframe. Moving forward, we will only use the new columns for our analysis.\n",
    "\n",
    "#### Balancing the Dataset\n",
    "Our target variable SEVERITYCODE is only 42% balanced. In fact, severitycode in class 1 is nearly three times the size of class, So we need to fix it."
   ]
  },
  {
   "cell_type": "code",
   "execution_count": null,
   "metadata": {},
   "outputs": [],
   "source": []
  }
 ],
 "metadata": {
  "kernelspec": {
   "display_name": "Python 3",
   "language": "python",
   "name": "python3"
  },
  "language_info": {
   "codemirror_mode": {
    "name": "ipython",
    "version": 3
   },
   "file_extension": ".py",
   "mimetype": "text/x-python",
   "name": "python",
   "nbconvert_exporter": "python",
   "pygments_lexer": "ipython3",
   "version": "3.7.6"
  }
 },
 "nbformat": 4,
 "nbformat_minor": 4
}
